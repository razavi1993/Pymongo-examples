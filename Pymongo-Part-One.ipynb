{
 "cells": [
  {
   "cell_type": "code",
   "execution_count": 1,
   "id": "697437e2-4b66-4761-af23-b5f655481f70",
   "metadata": {
    "execution": {
     "iopub.execute_input": "2024-09-12T09:29:53.683819Z",
     "iopub.status.busy": "2024-09-12T09:29:53.682819Z",
     "iopub.status.idle": "2024-09-12T09:29:53.981893Z",
     "shell.execute_reply": "2024-09-12T09:29:53.980855Z",
     "shell.execute_reply.started": "2024-09-12T09:29:53.683819Z"
    }
   },
   "outputs": [],
   "source": [
    "from pymongo import MongoClient"
   ]
  },
  {
   "cell_type": "code",
   "execution_count": 2,
   "id": "4e20a8a6-956b-4fd5-a639-e4e644b02afb",
   "metadata": {
    "execution": {
     "iopub.execute_input": "2024-09-12T09:30:23.113254Z",
     "iopub.status.busy": "2024-09-12T09:30:23.112252Z",
     "iopub.status.idle": "2024-09-12T09:30:23.418061Z",
     "shell.execute_reply": "2024-09-12T09:30:23.417037Z",
     "shell.execute_reply.started": "2024-09-12T09:30:23.113254Z"
    }
   },
   "outputs": [],
   "source": [
    "client = MongoClient('localhost', 27017)"
   ]
  },
  {
   "cell_type": "code",
   "execution_count": 3,
   "id": "5c283e12-973c-48aa-9543-a5dbd25ad3fc",
   "metadata": {
    "execution": {
     "iopub.execute_input": "2024-09-12T09:30:32.648755Z",
     "iopub.status.busy": "2024-09-12T09:30:32.647736Z",
     "iopub.status.idle": "2024-09-12T09:30:32.655415Z",
     "shell.execute_reply": "2024-09-12T09:30:32.654399Z",
     "shell.execute_reply.started": "2024-09-12T09:30:32.648755Z"
    }
   },
   "outputs": [],
   "source": [
    "db = client['mydb']"
   ]
  },
  {
   "cell_type": "code",
   "execution_count": 4,
   "id": "d9f236d4-285d-4d4a-81bd-e0e1089f7905",
   "metadata": {
    "execution": {
     "iopub.execute_input": "2024-09-12T09:30:34.117381Z",
     "iopub.status.busy": "2024-09-12T09:30:34.116384Z",
     "iopub.status.idle": "2024-09-12T09:30:34.129734Z",
     "shell.execute_reply": "2024-09-12T09:30:34.128719Z",
     "shell.execute_reply.started": "2024-09-12T09:30:34.117381Z"
    }
   },
   "outputs": [
    {
     "data": {
      "text/plain": [
       "Database(MongoClient(host=['localhost:27017'], document_class=dict, tz_aware=False, connect=True), 'mydb')"
      ]
     },
     "execution_count": 4,
     "metadata": {},
     "output_type": "execute_result"
    }
   ],
   "source": [
    "db"
   ]
  },
  {
   "cell_type": "code",
   "execution_count": 5,
   "id": "1a999b21-52c9-4e57-bd47-b2aae07c6ce1",
   "metadata": {
    "execution": {
     "iopub.execute_input": "2024-09-12T09:30:57.195064Z",
     "iopub.status.busy": "2024-09-12T09:30:57.194062Z",
     "iopub.status.idle": "2024-09-12T09:30:57.208445Z",
     "shell.execute_reply": "2024-09-12T09:30:57.207404Z",
     "shell.execute_reply.started": "2024-09-12T09:30:57.195064Z"
    }
   },
   "outputs": [
    {
     "name": "stdout",
     "output_type": "stream",
     "text": [
      "['admin', 'config', 'learning_mongo', 'local', 'newdb']\n"
     ]
    }
   ],
   "source": [
    "print(client.list_database_names())"
   ]
  },
  {
   "cell_type": "code",
   "execution_count": 6,
   "id": "668eec52-a8b9-4ebc-bf24-8e219ec305ba",
   "metadata": {
    "execution": {
     "iopub.execute_input": "2024-09-12T09:34:04.894933Z",
     "iopub.status.busy": "2024-09-12T09:34:04.893933Z",
     "iopub.status.idle": "2024-09-12T09:34:04.902029Z",
     "shell.execute_reply": "2024-09-12T09:34:04.900012Z",
     "shell.execute_reply.started": "2024-09-12T09:34:04.894933Z"
    }
   },
   "outputs": [],
   "source": [
    "collection = db['example']"
   ]
  },
  {
   "cell_type": "code",
   "execution_count": 7,
   "id": "220a00fd-f406-413c-990b-92c4273528e0",
   "metadata": {
    "execution": {
     "iopub.execute_input": "2024-09-12T09:34:07.818126Z",
     "iopub.status.busy": "2024-09-12T09:34:07.817127Z",
     "iopub.status.idle": "2024-09-12T09:34:07.826768Z",
     "shell.execute_reply": "2024-09-12T09:34:07.825746Z",
     "shell.execute_reply.started": "2024-09-12T09:34:07.818126Z"
    }
   },
   "outputs": [
    {
     "data": {
      "text/plain": [
       "Collection(Database(MongoClient(host=['localhost:27017'], document_class=dict, tz_aware=False, connect=True), 'mydb'), 'example')"
      ]
     },
     "execution_count": 7,
     "metadata": {},
     "output_type": "execute_result"
    }
   ],
   "source": [
    "collection"
   ]
  },
  {
   "cell_type": "code",
   "execution_count": 8,
   "id": "beda331c-5dc2-4411-84d0-bf250debd040",
   "metadata": {
    "execution": {
     "iopub.execute_input": "2024-09-12T09:36:42.238320Z",
     "iopub.status.busy": "2024-09-12T09:36:42.237319Z",
     "iopub.status.idle": "2024-09-12T09:36:42.244749Z",
     "shell.execute_reply": "2024-09-12T09:36:42.243719Z",
     "shell.execute_reply.started": "2024-09-12T09:36:42.238320Z"
    }
   },
   "outputs": [],
   "source": [
    "doc1 = {\"job\": \"programming\", \"salary\": 70000, \"city\": \"london\"}"
   ]
  },
  {
   "cell_type": "code",
   "execution_count": 9,
   "id": "d03d9f0c-4bad-4c4d-ba34-8ec46eb72fe3",
   "metadata": {
    "execution": {
     "iopub.execute_input": "2024-09-12T09:36:57.685502Z",
     "iopub.status.busy": "2024-09-12T09:36:57.683514Z",
     "iopub.status.idle": "2024-09-12T09:36:57.731937Z",
     "shell.execute_reply": "2024-09-12T09:36:57.730921Z",
     "shell.execute_reply.started": "2024-09-12T09:36:57.685502Z"
    }
   },
   "outputs": [
    {
     "data": {
      "text/plain": [
       "InsertOneResult(ObjectId('66e2b639b8d8c23be102ec68'), acknowledged=True)"
      ]
     },
     "execution_count": 9,
     "metadata": {},
     "output_type": "execute_result"
    }
   ],
   "source": [
    "collection.insert_one(doc1)"
   ]
  },
  {
   "cell_type": "code",
   "execution_count": 10,
   "id": "a3d223c8-6d6b-426c-b4e7-7e79bf7ddd3a",
   "metadata": {
    "execution": {
     "iopub.execute_input": "2024-09-12T09:37:15.308782Z",
     "iopub.status.busy": "2024-09-12T09:37:15.307784Z",
     "iopub.status.idle": "2024-09-12T09:37:15.328842Z",
     "shell.execute_reply": "2024-09-12T09:37:15.327826Z",
     "shell.execute_reply.started": "2024-09-12T09:37:15.308782Z"
    }
   },
   "outputs": [
    {
     "data": {
      "text/plain": [
       "{'_id': ObjectId('66e2b639b8d8c23be102ec68'),\n",
       " 'job': 'programming',\n",
       " 'salary': 70000,\n",
       " 'city': 'london'}"
      ]
     },
     "execution_count": 10,
     "metadata": {},
     "output_type": "execute_result"
    }
   ],
   "source": [
    "collection.find_one()"
   ]
  },
  {
   "cell_type": "code",
   "execution_count": 11,
   "id": "d19f3500-0e9c-43c5-9800-b62a5f4a3ab0",
   "metadata": {
    "execution": {
     "iopub.execute_input": "2024-09-12T09:42:03.981108Z",
     "iopub.status.busy": "2024-09-12T09:42:03.980081Z",
     "iopub.status.idle": "2024-09-12T09:42:03.989003Z",
     "shell.execute_reply": "2024-09-12T09:42:03.987985Z",
     "shell.execute_reply.started": "2024-09-12T09:42:03.981108Z"
    }
   },
   "outputs": [],
   "source": [
    "data = [{\"_id\": \"101\", \"job\": \"manager\", \"salary\": 200000, \"city\": \"paris\"},\n",
    "        {\"_id\": \"102\", \"job\": \"secretary\", \"salary\": 50000, \"city\": \"berlin\"},\n",
    "        {\"_id\": \"103\", \"job\": \"ceo\", \"salary\": 400000, \"city\": \"madrid\"}]"
   ]
  },
  {
   "cell_type": "code",
   "execution_count": 12,
   "id": "887cc0c6-60a9-407f-9049-47f0ae7f178a",
   "metadata": {
    "execution": {
     "iopub.execute_input": "2024-09-12T09:42:16.964321Z",
     "iopub.status.busy": "2024-09-12T09:42:16.963322Z",
     "iopub.status.idle": "2024-09-12T09:42:16.975110Z",
     "shell.execute_reply": "2024-09-12T09:42:16.973088Z",
     "shell.execute_reply.started": "2024-09-12T09:42:16.964321Z"
    }
   },
   "outputs": [
    {
     "data": {
      "text/plain": [
       "InsertManyResult(['101', '102', '103'], acknowledged=True)"
      ]
     },
     "execution_count": 12,
     "metadata": {},
     "output_type": "execute_result"
    }
   ],
   "source": [
    "collection.insert_many(data)"
   ]
  },
  {
   "cell_type": "code",
   "execution_count": 22,
   "id": "883e470b-7ecc-4b39-b310-cd16e153eceb",
   "metadata": {
    "execution": {
     "iopub.execute_input": "2024-09-12T09:45:06.676154Z",
     "iopub.status.busy": "2024-09-12T09:45:06.675153Z",
     "iopub.status.idle": "2024-09-12T09:45:06.686813Z",
     "shell.execute_reply": "2024-09-12T09:45:06.685793Z",
     "shell.execute_reply.started": "2024-09-12T09:45:06.676154Z"
    }
   },
   "outputs": [
    {
     "data": {
      "text/plain": [
       "{'_id': '102', 'job': 'secretary', 'salary': 50000, 'city': 'berlin'}"
      ]
     },
     "execution_count": 22,
     "metadata": {},
     "output_type": "execute_result"
    }
   ],
   "source": [
    "collection.find_one({\"_id\": \"102\"})"
   ]
  },
  {
   "cell_type": "code",
   "execution_count": 23,
   "id": "38a4c4bc-d1fd-4f47-9fea-591a476fe411",
   "metadata": {
    "execution": {
     "iopub.execute_input": "2024-09-12T09:45:47.024037Z",
     "iopub.status.busy": "2024-09-12T09:45:47.023037Z",
     "iopub.status.idle": "2024-09-12T09:45:47.033585Z",
     "shell.execute_reply": "2024-09-12T09:45:47.031569Z",
     "shell.execute_reply.started": "2024-09-12T09:45:47.024037Z"
    }
   },
   "outputs": [
    {
     "name": "stdout",
     "output_type": "stream",
     "text": [
      "{'_id': ObjectId('66e2b639b8d8c23be102ec68'), 'job': 'programming', 'salary': 70000, 'city': 'london'}\n",
      "{'_id': '101', 'job': 'manager', 'salary': 200000, 'city': 'paris'}\n",
      "{'_id': '102', 'job': 'secretary', 'salary': 50000, 'city': 'berlin'}\n",
      "{'_id': '103', 'job': 'ceo', 'salary': 400000, 'city': 'madrid'}\n"
     ]
    }
   ],
   "source": [
    "for doc in collection.find():\n",
    "    print(doc)"
   ]
  },
  {
   "cell_type": "code",
   "execution_count": 24,
   "id": "5945807b-dacb-41bd-bc8a-82f6b10565ec",
   "metadata": {
    "execution": {
     "iopub.execute_input": "2024-09-12T09:46:41.376559Z",
     "iopub.status.busy": "2024-09-12T09:46:41.376559Z",
     "iopub.status.idle": "2024-09-12T09:46:41.389780Z",
     "shell.execute_reply": "2024-09-12T09:46:41.388752Z",
     "shell.execute_reply.started": "2024-09-12T09:46:41.376559Z"
    }
   },
   "outputs": [
    {
     "name": "stdout",
     "output_type": "stream",
     "text": [
      "{'_id': '101', 'job': 'manager', 'salary': 200000, 'city': 'paris'}\n",
      "{'_id': '103', 'job': 'ceo', 'salary': 400000, 'city': 'madrid'}\n"
     ]
    }
   ],
   "source": [
    "for doc2 in collection.find({\"salary\":{\"$gt\": 100000}}):\n",
    "    print(doc2)"
   ]
  },
  {
   "cell_type": "code",
   "execution_count": 25,
   "id": "cd9df748-a7d8-464c-ae3e-3eb99fa91a70",
   "metadata": {
    "execution": {
     "iopub.execute_input": "2024-09-12T09:47:51.463270Z",
     "iopub.status.busy": "2024-09-12T09:47:51.462270Z",
     "iopub.status.idle": "2024-09-12T09:47:51.472447Z",
     "shell.execute_reply": "2024-09-12T09:47:51.471423Z",
     "shell.execute_reply.started": "2024-09-12T09:47:51.463270Z"
    }
   },
   "outputs": [
    {
     "name": "stdout",
     "output_type": "stream",
     "text": [
      "{'_id': ObjectId('66e2b639b8d8c23be102ec68'), 'job': 'programming', 'salary': 70000, 'city': 'london'}\n",
      "{'_id': '101', 'job': 'manager', 'salary': 200000, 'city': 'paris'}\n",
      "{'_id': '102', 'job': 'secretary', 'salary': 50000, 'city': 'berlin'}\n"
     ]
    }
   ],
   "source": [
    "for doc3 in collection.find({\"salary\":{\"$lte\": 200000}}):\n",
    "    print(doc3)"
   ]
  },
  {
   "cell_type": "code",
   "execution_count": 27,
   "id": "39accb9c-9faf-4e33-99fd-590f41f4bdd4",
   "metadata": {
    "execution": {
     "iopub.execute_input": "2024-09-12T09:48:33.782389Z",
     "iopub.status.busy": "2024-09-12T09:48:33.781377Z",
     "iopub.status.idle": "2024-09-12T09:48:33.794000Z",
     "shell.execute_reply": "2024-09-12T09:48:33.791972Z",
     "shell.execute_reply.started": "2024-09-12T09:48:33.782389Z"
    }
   },
   "outputs": [
    {
     "name": "stdout",
     "output_type": "stream",
     "text": [
      "{'_id': ObjectId('66e2b639b8d8c23be102ec68'), 'job': 'programming', 'salary': 70000, 'city': 'london'}\n",
      "{'_id': '101', 'job': 'manager', 'salary': 200000, 'city': 'paris'}\n",
      "{'_id': '103', 'job': 'ceo', 'salary': 400000, 'city': 'madrid'}\n"
     ]
    }
   ],
   "source": [
    "for doc4 in collection.find({\"salary\":{\"$ne\": 50000}}):\n",
    "    print(doc4)"
   ]
  },
  {
   "cell_type": "code",
   "execution_count": 31,
   "id": "9e0cd110-bd5f-4a69-bc4c-915fa4eb6164",
   "metadata": {
    "execution": {
     "iopub.execute_input": "2024-09-12T09:50:47.944728Z",
     "iopub.status.busy": "2024-09-12T09:50:47.943729Z",
     "iopub.status.idle": "2024-09-12T09:50:47.962952Z",
     "shell.execute_reply": "2024-09-12T09:50:47.961910Z",
     "shell.execute_reply.started": "2024-09-12T09:50:47.944728Z"
    }
   },
   "outputs": [
    {
     "name": "stdout",
     "output_type": "stream",
     "text": [
      "{'_id': '103', 'job': 'ceo', 'salary': 400000, 'city': 'madrid'}\n",
      "{'_id': '101', 'job': 'manager', 'salary': 200000, 'city': 'paris'}\n",
      "{'_id': ObjectId('66e2b639b8d8c23be102ec68'), 'job': 'programming', 'salary': 70000, 'city': 'london'}\n",
      "{'_id': '102', 'job': 'secretary', 'salary': 50000, 'city': 'berlin'}\n"
     ]
    }
   ],
   "source": [
    "for doc5 in collection.find().sort(\"salary\", -1):\n",
    "    print(doc5)"
   ]
  },
  {
   "cell_type": "code",
   "execution_count": 32,
   "id": "60bde118-3c71-4bb2-b4c2-8e402a12612d",
   "metadata": {
    "execution": {
     "iopub.execute_input": "2024-09-12T09:51:54.481990Z",
     "iopub.status.busy": "2024-09-12T09:51:54.480991Z",
     "iopub.status.idle": "2024-09-12T09:51:54.493042Z",
     "shell.execute_reply": "2024-09-12T09:51:54.492021Z",
     "shell.execute_reply.started": "2024-09-12T09:51:54.481990Z"
    }
   },
   "outputs": [
    {
     "data": {
      "text/plain": [
       "DeleteResult({'n': 1, 'ok': 1.0}, acknowledged=True)"
      ]
     },
     "execution_count": 32,
     "metadata": {},
     "output_type": "execute_result"
    }
   ],
   "source": [
    "collection.delete_one({\"city\": \"london\"})"
   ]
  },
  {
   "cell_type": "code",
   "execution_count": 33,
   "id": "4067202e-ad70-48aa-8b7e-61cbde511c3d",
   "metadata": {
    "execution": {
     "iopub.execute_input": "2024-09-12T09:52:14.267955Z",
     "iopub.status.busy": "2024-09-12T09:52:14.266953Z",
     "iopub.status.idle": "2024-09-12T09:52:14.276279Z",
     "shell.execute_reply": "2024-09-12T09:52:14.275264Z",
     "shell.execute_reply.started": "2024-09-12T09:52:14.267955Z"
    }
   },
   "outputs": [
    {
     "name": "stdout",
     "output_type": "stream",
     "text": [
      "{'_id': '101', 'job': 'manager', 'salary': 200000, 'city': 'paris'}\n",
      "{'_id': '102', 'job': 'secretary', 'salary': 50000, 'city': 'berlin'}\n",
      "{'_id': '103', 'job': 'ceo', 'salary': 400000, 'city': 'madrid'}\n"
     ]
    }
   ],
   "source": [
    "for doc6 in collection.find():\n",
    "    print(doc6)"
   ]
  },
  {
   "cell_type": "code",
   "execution_count": 34,
   "id": "4fc715ca-7de3-4547-9667-1fc888874ec9",
   "metadata": {
    "execution": {
     "iopub.execute_input": "2024-09-12T09:53:09.859689Z",
     "iopub.status.busy": "2024-09-12T09:53:09.858691Z",
     "iopub.status.idle": "2024-09-12T09:53:09.869840Z",
     "shell.execute_reply": "2024-09-12T09:53:09.868820Z",
     "shell.execute_reply.started": "2024-09-12T09:53:09.859689Z"
    }
   },
   "outputs": [
    {
     "data": {
      "text/plain": [
       "DeleteResult({'n': 1, 'ok': 1.0}, acknowledged=True)"
      ]
     },
     "execution_count": 34,
     "metadata": {},
     "output_type": "execute_result"
    }
   ],
   "source": [
    "collection.delete_many({\"salary\": {\"$lt\": 100000}})"
   ]
  },
  {
   "cell_type": "code",
   "execution_count": 35,
   "id": "531f9588-fc28-4a31-8ae0-999b1fb8631d",
   "metadata": {
    "execution": {
     "iopub.execute_input": "2024-09-12T09:53:26.698274Z",
     "iopub.status.busy": "2024-09-12T09:53:26.697273Z",
     "iopub.status.idle": "2024-09-12T09:53:26.707630Z",
     "shell.execute_reply": "2024-09-12T09:53:26.706611Z",
     "shell.execute_reply.started": "2024-09-12T09:53:26.698274Z"
    }
   },
   "outputs": [
    {
     "name": "stdout",
     "output_type": "stream",
     "text": [
      "{'_id': '101', 'job': 'manager', 'salary': 200000, 'city': 'paris'}\n",
      "{'_id': '103', 'job': 'ceo', 'salary': 400000, 'city': 'madrid'}\n"
     ]
    }
   ],
   "source": [
    "for doc7 in collection.find():\n",
    "    print(doc7)"
   ]
  },
  {
   "cell_type": "code",
   "execution_count": 38,
   "id": "6eeaa4de-b6be-4788-bcb5-7e929b1b6414",
   "metadata": {
    "execution": {
     "iopub.execute_input": "2024-09-12T09:54:51.209816Z",
     "iopub.status.busy": "2024-09-12T09:54:51.208809Z",
     "iopub.status.idle": "2024-09-12T09:54:51.220078Z",
     "shell.execute_reply": "2024-09-12T09:54:51.218034Z",
     "shell.execute_reply.started": "2024-09-12T09:54:51.209816Z"
    }
   },
   "outputs": [
    {
     "data": {
      "text/plain": [
       "['example']"
      ]
     },
     "execution_count": 38,
     "metadata": {},
     "output_type": "execute_result"
    }
   ],
   "source": [
    "db.list_collection_names()"
   ]
  },
  {
   "cell_type": "code",
   "execution_count": 41,
   "id": "1d5c2d7b-bf2a-43c6-abf4-b6975d667275",
   "metadata": {
    "execution": {
     "iopub.execute_input": "2024-09-12T09:55:36.026314Z",
     "iopub.status.busy": "2024-09-12T09:55:36.025315Z",
     "iopub.status.idle": "2024-09-12T09:55:36.040861Z",
     "shell.execute_reply": "2024-09-12T09:55:36.039846Z",
     "shell.execute_reply.started": "2024-09-12T09:55:36.026314Z"
    }
   },
   "outputs": [],
   "source": [
    "db['example'].drop()"
   ]
  },
  {
   "cell_type": "code",
   "execution_count": 42,
   "id": "3059e066-a07b-490c-936c-e10cf60ca9a7",
   "metadata": {
    "execution": {
     "iopub.execute_input": "2024-09-12T09:55:50.951242Z",
     "iopub.status.busy": "2024-09-12T09:55:50.950242Z",
     "iopub.status.idle": "2024-09-12T09:55:50.961576Z",
     "shell.execute_reply": "2024-09-12T09:55:50.960557Z",
     "shell.execute_reply.started": "2024-09-12T09:55:50.951242Z"
    }
   },
   "outputs": [
    {
     "data": {
      "text/plain": [
       "[]"
      ]
     },
     "execution_count": 42,
     "metadata": {},
     "output_type": "execute_result"
    }
   ],
   "source": [
    "db.list_collection_names()"
   ]
  },
  {
   "cell_type": "code",
   "execution_count": 43,
   "id": "38183945-4dee-4383-984d-4a5a874c64e2",
   "metadata": {
    "execution": {
     "iopub.execute_input": "2024-09-12T09:57:29.102902Z",
     "iopub.status.busy": "2024-09-12T09:57:29.101912Z",
     "iopub.status.idle": "2024-09-12T09:57:29.109126Z",
     "shell.execute_reply": "2024-09-12T09:57:29.108100Z",
     "shell.execute_reply.started": "2024-09-12T09:57:29.102902Z"
    }
   },
   "outputs": [],
   "source": [
    "coll2 = db['example2']"
   ]
  },
  {
   "cell_type": "code",
   "execution_count": 44,
   "id": "7b1fb9fa-68a8-4f7a-b70a-a87f5864b3c1",
   "metadata": {
    "execution": {
     "iopub.execute_input": "2024-09-12T09:59:28.725054Z",
     "iopub.status.busy": "2024-09-12T09:59:28.724046Z",
     "iopub.status.idle": "2024-09-12T09:59:28.732568Z",
     "shell.execute_reply": "2024-09-12T09:59:28.731542Z",
     "shell.execute_reply.started": "2024-09-12T09:59:28.725054Z"
    }
   },
   "outputs": [],
   "source": [
    "data2 = [{\"_id\": \"1\", \"sport\": \"football\", \"age\": 17, \"city\": \"london\"},\n",
    "         {\"_id\": \"2\", \"sport\": \"basketball\", \"age\": 15, \"city\": \"paris\"},\n",
    "         {\"_id\": \"3\", \"sport\": \"hadnball\", \"age\": 16, \"city\": \"madrid\"}]"
   ]
  },
  {
   "cell_type": "code",
   "execution_count": 45,
   "id": "f915f2c4-8b79-4ba7-a86f-ca789ff92b76",
   "metadata": {
    "execution": {
     "iopub.execute_input": "2024-09-12T09:59:37.705616Z",
     "iopub.status.busy": "2024-09-12T09:59:37.704617Z",
     "iopub.status.idle": "2024-09-12T09:59:37.730400Z",
     "shell.execute_reply": "2024-09-12T09:59:37.729375Z",
     "shell.execute_reply.started": "2024-09-12T09:59:37.705616Z"
    }
   },
   "outputs": [
    {
     "data": {
      "text/plain": [
       "InsertManyResult(['1', '2', '3'], acknowledged=True)"
      ]
     },
     "execution_count": 45,
     "metadata": {},
     "output_type": "execute_result"
    }
   ],
   "source": [
    "coll2.insert_many(data2)"
   ]
  },
  {
   "cell_type": "code",
   "execution_count": 46,
   "id": "11405199-ad14-45ac-b3eb-7c91791aac94",
   "metadata": {
    "execution": {
     "iopub.execute_input": "2024-09-12T10:01:00.788901Z",
     "iopub.status.busy": "2024-09-12T10:01:00.787905Z",
     "iopub.status.idle": "2024-09-12T10:01:00.802512Z",
     "shell.execute_reply": "2024-09-12T10:01:00.801492Z",
     "shell.execute_reply.started": "2024-09-12T10:01:00.788901Z"
    }
   },
   "outputs": [
    {
     "data": {
      "text/plain": [
       "UpdateResult({'n': 1, 'nModified': 1, 'ok': 1.0, 'updatedExisting': True}, acknowledged=True)"
      ]
     },
     "execution_count": 46,
     "metadata": {},
     "output_type": "execute_result"
    }
   ],
   "source": [
    "coll2.update_one({\"_id\": \"2\"}, {\"$set\": {\"city\": \"manchester\"}})"
   ]
  },
  {
   "cell_type": "code",
   "execution_count": 48,
   "id": "c2e57a94-00cd-4842-b02a-63c2c99cdce5",
   "metadata": {
    "execution": {
     "iopub.execute_input": "2024-09-12T10:01:21.895314Z",
     "iopub.status.busy": "2024-09-12T10:01:21.894315Z",
     "iopub.status.idle": "2024-09-12T10:01:21.905999Z",
     "shell.execute_reply": "2024-09-12T10:01:21.904975Z",
     "shell.execute_reply.started": "2024-09-12T10:01:21.895314Z"
    }
   },
   "outputs": [
    {
     "data": {
      "text/plain": [
       "{'_id': '2', 'sport': 'basketball', 'age': 15, 'city': 'manchester'}"
      ]
     },
     "execution_count": 48,
     "metadata": {},
     "output_type": "execute_result"
    }
   ],
   "source": [
    "coll2.find_one({\"_id\": \"2\"})"
   ]
  },
  {
   "cell_type": "code",
   "execution_count": 50,
   "id": "333afb38-98a8-4bda-95ee-664e368422fd",
   "metadata": {
    "execution": {
     "iopub.execute_input": "2024-09-12T10:02:36.506257Z",
     "iopub.status.busy": "2024-09-12T10:02:36.505262Z",
     "iopub.status.idle": "2024-09-12T10:02:36.518975Z",
     "shell.execute_reply": "2024-09-12T10:02:36.517950Z",
     "shell.execute_reply.started": "2024-09-12T10:02:36.506257Z"
    }
   },
   "outputs": [
    {
     "data": {
      "text/plain": [
       "UpdateResult({'n': 3, 'nModified': 2, 'ok': 1.0, 'updatedExisting': True}, acknowledged=True)"
      ]
     },
     "execution_count": 50,
     "metadata": {},
     "output_type": "execute_result"
    }
   ],
   "source": [
    "coll2.update_many({}, {\"$set\": {\"sport\": \"football\"}})"
   ]
  },
  {
   "cell_type": "code",
   "execution_count": 53,
   "id": "185a9e9c-c52d-4158-899b-1e5060d67a08",
   "metadata": {
    "execution": {
     "iopub.execute_input": "2024-09-12T10:03:21.054195Z",
     "iopub.status.busy": "2024-09-12T10:03:21.053193Z",
     "iopub.status.idle": "2024-09-12T10:03:21.063330Z",
     "shell.execute_reply": "2024-09-12T10:03:21.062308Z",
     "shell.execute_reply.started": "2024-09-12T10:03:21.054195Z"
    }
   },
   "outputs": [
    {
     "name": "stdout",
     "output_type": "stream",
     "text": [
      "{'_id': '1', 'sport': 'football', 'age': 17, 'city': 'london'}\n",
      "{'_id': '2', 'sport': 'football', 'age': 15, 'city': 'manchester'}\n",
      "{'_id': '3', 'sport': 'football', 'age': 16, 'city': 'madrid'}\n"
     ]
    }
   ],
   "source": [
    "for doc8 in coll2.find():\n",
    "    print(doc8)"
   ]
  },
  {
   "cell_type": "code",
   "execution_count": 54,
   "id": "46ca342e-bb11-4a1c-b933-5c018186b38b",
   "metadata": {
    "execution": {
     "iopub.execute_input": "2024-09-12T10:04:01.594783Z",
     "iopub.status.busy": "2024-09-12T10:04:01.593781Z",
     "iopub.status.idle": "2024-09-12T10:04:01.604193Z",
     "shell.execute_reply": "2024-09-12T10:04:01.602178Z",
     "shell.execute_reply.started": "2024-09-12T10:04:01.594783Z"
    }
   },
   "outputs": [
    {
     "name": "stdout",
     "output_type": "stream",
     "text": [
      "{'_id': '1', 'sport': 'football', 'age': 17, 'city': 'london'}\n",
      "{'_id': '2', 'sport': 'football', 'age': 15, 'city': 'manchester'}\n"
     ]
    }
   ],
   "source": [
    "for doc9 in coll2.find().limit(2):\n",
    "    print(doc9)"
   ]
  },
  {
   "cell_type": "code",
   "execution_count": null,
   "id": "f04c3537-6229-4157-8d35-600be16b6c2a",
   "metadata": {},
   "outputs": [],
   "source": []
  }
 ],
 "metadata": {
  "kernelspec": {
   "display_name": "Python 3 (ipykernel)",
   "language": "python",
   "name": "python3"
  },
  "language_info": {
   "codemirror_mode": {
    "name": "ipython",
    "version": 3
   },
   "file_extension": ".py",
   "mimetype": "text/x-python",
   "name": "python",
   "nbconvert_exporter": "python",
   "pygments_lexer": "ipython3",
   "version": "3.12.5"
  }
 },
 "nbformat": 4,
 "nbformat_minor": 5
}
