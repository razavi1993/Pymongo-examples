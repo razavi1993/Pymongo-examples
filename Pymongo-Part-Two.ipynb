{
 "cells": [
  {
   "cell_type": "code",
   "execution_count": 1,
   "id": "051b9d34-8cdc-4875-9e10-3c38198b047b",
   "metadata": {
    "execution": {
     "iopub.execute_input": "2024-09-12T12:58:01.652971Z",
     "iopub.status.busy": "2024-09-12T12:58:01.651967Z",
     "iopub.status.idle": "2024-09-12T12:58:01.854593Z",
     "shell.execute_reply": "2024-09-12T12:58:01.853551Z",
     "shell.execute_reply.started": "2024-09-12T12:58:01.652971Z"
    }
   },
   "outputs": [],
   "source": [
    "from pymongo import MongoClient"
   ]
  },
  {
   "cell_type": "code",
   "execution_count": 2,
   "id": "9a1aa2c2-b61b-4298-803c-b4493b7197e0",
   "metadata": {
    "execution": {
     "iopub.execute_input": "2024-09-12T12:58:01.856568Z",
     "iopub.status.busy": "2024-09-12T12:58:01.856568Z",
     "iopub.status.idle": "2024-09-12T12:58:01.880820Z",
     "shell.execute_reply": "2024-09-12T12:58:01.879777Z",
     "shell.execute_reply.started": "2024-09-12T12:58:01.856568Z"
    }
   },
   "outputs": [],
   "source": [
    "client = MongoClient('localhost', 27017)"
   ]
  },
  {
   "cell_type": "code",
   "execution_count": 17,
   "id": "c701f936-8ac5-47de-85e7-ea4637abbd84",
   "metadata": {
    "execution": {
     "iopub.execute_input": "2024-09-12T13:10:32.186803Z",
     "iopub.status.busy": "2024-09-12T13:10:32.185805Z",
     "iopub.status.idle": "2024-09-12T13:10:32.195626Z",
     "shell.execute_reply": "2024-09-12T13:10:32.193608Z",
     "shell.execute_reply.started": "2024-09-12T13:10:32.186803Z"
    }
   },
   "outputs": [],
   "source": [
    "data = [{\"_id\": \"1\", \"sport\": \"football\", \"total\": 25},\n",
    "        {\"_id\": \"2\", \"sport\": \"basketball\", \"total\": 35},\n",
    "        {\"_id\": \"3\", \"sport\": \"handball\", \"total\": 19},\n",
    "        {\"_id\": \"4\", \"sport\": \"wrestling\", \"total\": 23}]"
   ]
  },
  {
   "cell_type": "code",
   "execution_count": 4,
   "id": "afe7e00e-9608-42ed-9003-ba6eb1b7f9e7",
   "metadata": {
    "execution": {
     "iopub.execute_input": "2024-09-12T13:00:45.803953Z",
     "iopub.status.busy": "2024-09-12T13:00:45.801946Z",
     "iopub.status.idle": "2024-09-12T13:00:45.809724Z",
     "shell.execute_reply": "2024-09-12T13:00:45.808700Z",
     "shell.execute_reply.started": "2024-09-12T13:00:45.802976Z"
    }
   },
   "outputs": [],
   "source": [
    "db = client[\"newdb\"]"
   ]
  },
  {
   "cell_type": "code",
   "execution_count": 27,
   "id": "5860dd01-c8be-4ebe-b818-3370d4642f4c",
   "metadata": {
    "execution": {
     "iopub.execute_input": "2024-09-12T13:14:28.802483Z",
     "iopub.status.busy": "2024-09-12T13:14:28.801487Z",
     "iopub.status.idle": "2024-09-12T13:14:28.809755Z",
     "shell.execute_reply": "2024-09-12T13:14:28.807727Z",
     "shell.execute_reply.started": "2024-09-12T13:14:28.802483Z"
    }
   },
   "outputs": [],
   "source": [
    "coll = db[\"sports\"]"
   ]
  },
  {
   "cell_type": "code",
   "execution_count": 28,
   "id": "c4276790-675e-4f8d-a272-a37c0b06443b",
   "metadata": {
    "execution": {
     "iopub.execute_input": "2024-09-12T13:14:29.258610Z",
     "iopub.status.busy": "2024-09-12T13:14:29.257593Z",
     "iopub.status.idle": "2024-09-12T13:14:29.283822Z",
     "shell.execute_reply": "2024-09-12T13:14:29.282801Z",
     "shell.execute_reply.started": "2024-09-12T13:14:29.258610Z"
    }
   },
   "outputs": [
    {
     "data": {
      "text/plain": [
       "InsertManyResult(['1', '2', '3', '4'], acknowledged=True)"
      ]
     },
     "execution_count": 28,
     "metadata": {},
     "output_type": "execute_result"
    }
   ],
   "source": [
    "coll.insert_many(data)"
   ]
  },
  {
   "cell_type": "code",
   "execution_count": 29,
   "id": "439860d9-60bd-4b93-a885-f908f1e8a9e2",
   "metadata": {
    "execution": {
     "iopub.execute_input": "2024-09-12T13:14:29.708399Z",
     "iopub.status.busy": "2024-09-12T13:14:29.707398Z",
     "iopub.status.idle": "2024-09-12T13:14:29.716418Z",
     "shell.execute_reply": "2024-09-12T13:14:29.715390Z",
     "shell.execute_reply.started": "2024-09-12T13:14:29.708399Z"
    }
   },
   "outputs": [
    {
     "name": "stdout",
     "output_type": "stream",
     "text": [
      "{'_id': '1', 'sport': 'football', 'total': 25}\n",
      "{'_id': '2', 'sport': 'basketball', 'total': 35}\n",
      "{'_id': '3', 'sport': 'handball', 'total': 19}\n",
      "{'_id': '4', 'sport': 'wreatling', 'total': 23}\n"
     ]
    }
   ],
   "source": [
    "for doc in coll.find():\n",
    "    print(doc)"
   ]
  },
  {
   "cell_type": "code",
   "execution_count": 30,
   "id": "eb0a5090-35c3-4e3e-b449-8e774894d24d",
   "metadata": {
    "execution": {
     "iopub.execute_input": "2024-09-12T13:14:30.004698Z",
     "iopub.status.busy": "2024-09-12T13:14:30.002696Z",
     "iopub.status.idle": "2024-09-12T13:14:30.015425Z",
     "shell.execute_reply": "2024-09-12T13:14:30.014400Z",
     "shell.execute_reply.started": "2024-09-12T13:14:30.004698Z"
    }
   },
   "outputs": [
    {
     "data": {
      "text/plain": [
       "UpdateResult({'n': 4, 'nModified': 4, 'ok': 1.0, 'updatedExisting': True}, acknowledged=True)"
      ]
     },
     "execution_count": 30,
     "metadata": {},
     "output_type": "execute_result"
    }
   ],
   "source": [
    "coll.update_many({}, {\"$inc\": {\"total\": 1}})"
   ]
  },
  {
   "cell_type": "code",
   "execution_count": 31,
   "id": "01b2c5e9-92a0-4b1f-96d8-9a4c8ac0a923",
   "metadata": {
    "execution": {
     "iopub.execute_input": "2024-09-12T13:14:30.458994Z",
     "iopub.status.busy": "2024-09-12T13:14:30.458007Z",
     "iopub.status.idle": "2024-09-12T13:14:30.468006Z",
     "shell.execute_reply": "2024-09-12T13:14:30.465985Z",
     "shell.execute_reply.started": "2024-09-12T13:14:30.458994Z"
    }
   },
   "outputs": [
    {
     "name": "stdout",
     "output_type": "stream",
     "text": [
      "{'_id': '1', 'sport': 'football', 'total': 26}\n",
      "{'_id': '2', 'sport': 'basketball', 'total': 36}\n",
      "{'_id': '3', 'sport': 'handball', 'total': 20}\n",
      "{'_id': '4', 'sport': 'wreatling', 'total': 24}\n"
     ]
    }
   ],
   "source": [
    "for doc in coll.find():\n",
    "    print(doc)"
   ]
  },
  {
   "cell_type": "code",
   "execution_count": 34,
   "id": "60727db4-88a5-4007-9d90-f4c6feeb4325",
   "metadata": {
    "execution": {
     "iopub.execute_input": "2024-09-12T13:15:13.512459Z",
     "iopub.status.busy": "2024-09-12T13:15:13.511473Z",
     "iopub.status.idle": "2024-09-12T13:15:13.523467Z",
     "shell.execute_reply": "2024-09-12T13:15:13.522425Z",
     "shell.execute_reply.started": "2024-09-12T13:15:13.512459Z"
    }
   },
   "outputs": [
    {
     "data": {
      "text/plain": [
       "UpdateResult({'n': 4, 'nModified': 4, 'ok': 1.0, 'updatedExisting': True}, acknowledged=True)"
      ]
     },
     "execution_count": 34,
     "metadata": {},
     "output_type": "execute_result"
    }
   ],
   "source": [
    "coll.update_many({}, {\"$rename\": {\"sport\": \"old_sport\"}})"
   ]
  },
  {
   "cell_type": "code",
   "execution_count": 35,
   "id": "cf66dad4-9015-4f41-9612-f67af18a6515",
   "metadata": {
    "execution": {
     "iopub.execute_input": "2024-09-12T13:15:14.161158Z",
     "iopub.status.busy": "2024-09-12T13:15:14.160160Z",
     "iopub.status.idle": "2024-09-12T13:15:14.169206Z",
     "shell.execute_reply": "2024-09-12T13:15:14.168182Z",
     "shell.execute_reply.started": "2024-09-12T13:15:14.161158Z"
    }
   },
   "outputs": [
    {
     "name": "stdout",
     "output_type": "stream",
     "text": [
      "{'_id': '1', 'total': 26, 'old_sport': 'football'}\n",
      "{'_id': '2', 'total': 36, 'old_sport': 'basketball'}\n",
      "{'_id': '3', 'total': 20, 'old_sport': 'handball'}\n",
      "{'_id': '4', 'total': 24, 'old_sport': 'wreatling'}\n"
     ]
    }
   ],
   "source": [
    "for doc in coll.find():\n",
    "    print(doc)"
   ]
  },
  {
   "cell_type": "code",
   "execution_count": 36,
   "id": "4b62f5a2-dd85-476b-a389-d5122ca67850",
   "metadata": {
    "execution": {
     "iopub.execute_input": "2024-09-12T13:18:16.609678Z",
     "iopub.status.busy": "2024-09-12T13:18:16.608676Z",
     "iopub.status.idle": "2024-09-12T13:18:17.732702Z",
     "shell.execute_reply": "2024-09-12T13:18:17.731691Z",
     "shell.execute_reply.started": "2024-09-12T13:18:16.609678Z"
    }
   },
   "outputs": [],
   "source": [
    "import pandas as pd"
   ]
  },
  {
   "cell_type": "code",
   "execution_count": 38,
   "id": "efc362e8-ba79-44cc-a97e-9526302d7b14",
   "metadata": {
    "execution": {
     "iopub.execute_input": "2024-09-12T13:19:46.828216Z",
     "iopub.status.busy": "2024-09-12T13:19:46.827219Z",
     "iopub.status.idle": "2024-09-12T13:19:46.842544Z",
     "shell.execute_reply": "2024-09-12T13:19:46.841502Z",
     "shell.execute_reply.started": "2024-09-12T13:19:46.828216Z"
    }
   },
   "outputs": [],
   "source": [
    "df = pd.DataFrame(coll.find())"
   ]
  },
  {
   "cell_type": "code",
   "execution_count": 39,
   "id": "513bc381-3b30-43ba-8785-1b62a005e1c6",
   "metadata": {
    "execution": {
     "iopub.execute_input": "2024-09-12T13:19:49.970186Z",
     "iopub.status.busy": "2024-09-12T13:19:49.969188Z",
     "iopub.status.idle": "2024-09-12T13:19:49.994784Z",
     "shell.execute_reply": "2024-09-12T13:19:49.993766Z",
     "shell.execute_reply.started": "2024-09-12T13:19:49.970186Z"
    }
   },
   "outputs": [
    {
     "data": {
      "text/html": [
       "<div>\n",
       "<style scoped>\n",
       "    .dataframe tbody tr th:only-of-type {\n",
       "        vertical-align: middle;\n",
       "    }\n",
       "\n",
       "    .dataframe tbody tr th {\n",
       "        vertical-align: top;\n",
       "    }\n",
       "\n",
       "    .dataframe thead th {\n",
       "        text-align: right;\n",
       "    }\n",
       "</style>\n",
       "<table border=\"1\" class=\"dataframe\">\n",
       "  <thead>\n",
       "    <tr style=\"text-align: right;\">\n",
       "      <th></th>\n",
       "      <th>_id</th>\n",
       "      <th>total</th>\n",
       "      <th>old_sport</th>\n",
       "    </tr>\n",
       "  </thead>\n",
       "  <tbody>\n",
       "    <tr>\n",
       "      <th>0</th>\n",
       "      <td>1</td>\n",
       "      <td>26</td>\n",
       "      <td>football</td>\n",
       "    </tr>\n",
       "    <tr>\n",
       "      <th>1</th>\n",
       "      <td>2</td>\n",
       "      <td>36</td>\n",
       "      <td>basketball</td>\n",
       "    </tr>\n",
       "    <tr>\n",
       "      <th>2</th>\n",
       "      <td>3</td>\n",
       "      <td>20</td>\n",
       "      <td>handball</td>\n",
       "    </tr>\n",
       "    <tr>\n",
       "      <th>3</th>\n",
       "      <td>4</td>\n",
       "      <td>24</td>\n",
       "      <td>wreatling</td>\n",
       "    </tr>\n",
       "  </tbody>\n",
       "</table>\n",
       "</div>"
      ],
      "text/plain": [
       "  _id  total   old_sport\n",
       "0   1     26    football\n",
       "1   2     36  basketball\n",
       "2   3     20    handball\n",
       "3   4     24   wreatling"
      ]
     },
     "execution_count": 39,
     "metadata": {},
     "output_type": "execute_result"
    }
   ],
   "source": [
    "df"
   ]
  },
  {
   "cell_type": "code",
   "execution_count": null,
   "id": "09d751f1-49c3-4b7f-bac6-36c0b5752260",
   "metadata": {},
   "outputs": [],
   "source": []
  }
 ],
 "metadata": {
  "kernelspec": {
   "display_name": "Python 3 (ipykernel)",
   "language": "python",
   "name": "python3"
  },
  "language_info": {
   "codemirror_mode": {
    "name": "ipython",
    "version": 3
   },
   "file_extension": ".py",
   "mimetype": "text/x-python",
   "name": "python",
   "nbconvert_exporter": "python",
   "pygments_lexer": "ipython3",
   "version": "3.12.5"
  }
 },
 "nbformat": 4,
 "nbformat_minor": 5
}
