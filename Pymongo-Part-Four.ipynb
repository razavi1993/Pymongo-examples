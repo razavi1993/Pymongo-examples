{
 "cells": [
  {
   "cell_type": "code",
   "execution_count": 1,
   "id": "708bbab1-5129-47fe-9831-d8003e8f54b6",
   "metadata": {
    "execution": {
     "iopub.execute_input": "2024-09-12T16:34:42.038163Z",
     "iopub.status.busy": "2024-09-12T16:34:42.038163Z",
     "iopub.status.idle": "2024-09-12T16:34:42.046465Z",
     "shell.execute_reply": "2024-09-12T16:34:42.044449Z",
     "shell.execute_reply.started": "2024-09-12T16:34:42.038163Z"
    }
   },
   "outputs": [],
   "source": [
    "from pymongo import MongoClient"
   ]
  },
  {
   "cell_type": "code",
   "execution_count": 2,
   "id": "7786da2c-8cc5-47f6-864c-35093714f6eb",
   "metadata": {
    "execution": {
     "iopub.execute_input": "2024-09-12T16:35:03.722327Z",
     "iopub.status.busy": "2024-09-12T16:35:03.721327Z",
     "iopub.status.idle": "2024-09-12T16:35:03.744526Z",
     "shell.execute_reply": "2024-09-12T16:35:03.743546Z",
     "shell.execute_reply.started": "2024-09-12T16:35:03.722327Z"
    }
   },
   "outputs": [],
   "source": [
    "client = MongoClient('localhost', 27017)"
   ]
  },
  {
   "cell_type": "code",
   "execution_count": 3,
   "id": "475cfb86-ae97-42c6-a1f6-470de866c66b",
   "metadata": {
    "execution": {
     "iopub.execute_input": "2024-09-12T16:36:00.828654Z",
     "iopub.status.busy": "2024-09-12T16:36:00.827661Z",
     "iopub.status.idle": "2024-09-12T16:36:00.834552Z",
     "shell.execute_reply": "2024-09-12T16:36:00.833538Z",
     "shell.execute_reply.started": "2024-09-12T16:36:00.828654Z"
    }
   },
   "outputs": [],
   "source": [
    "db = client['mynewdb']"
   ]
  },
  {
   "cell_type": "code",
   "execution_count": 4,
   "id": "826311eb-3304-4f4c-98f7-e4fcdd0cc19d",
   "metadata": {
    "execution": {
     "iopub.execute_input": "2024-09-12T16:36:20.822948Z",
     "iopub.status.busy": "2024-09-12T16:36:20.821948Z",
     "iopub.status.idle": "2024-09-12T16:36:20.829811Z",
     "shell.execute_reply": "2024-09-12T16:36:20.828824Z",
     "shell.execute_reply.started": "2024-09-12T16:36:20.822948Z"
    }
   },
   "outputs": [],
   "source": [
    "coll = db['fruits']"
   ]
  },
  {
   "cell_type": "code",
   "execution_count": 7,
   "id": "9df1a658-71a0-4b05-a06b-69b7f88ec6e9",
   "metadata": {
    "execution": {
     "iopub.execute_input": "2024-09-12T16:40:08.515522Z",
     "iopub.status.busy": "2024-09-12T16:40:08.514523Z",
     "iopub.status.idle": "2024-09-12T16:40:08.522717Z",
     "shell.execute_reply": "2024-09-12T16:40:08.521700Z",
     "shell.execute_reply.started": "2024-09-12T16:40:08.515522Z"
    }
   },
   "outputs": [],
   "source": [
    "data = [{'_id': 1, 'basket': ['apple', 'orange', 'orange', 'peach', 'pear']},\n",
    "        {'_id': 2, 'basket': ['apple', 'lemon', 'pear']},\n",
    "        {'_id': 3, 'basket': []},\n",
    "        {'_id': 4, 'basket': None}]"
   ]
  },
  {
   "cell_type": "code",
   "execution_count": 8,
   "id": "a46658a1-bff7-4913-a4ce-b4afda6354e4",
   "metadata": {
    "execution": {
     "iopub.execute_input": "2024-09-12T16:40:22.686182Z",
     "iopub.status.busy": "2024-09-12T16:40:22.686182Z",
     "iopub.status.idle": "2024-09-12T16:40:22.721651Z",
     "shell.execute_reply": "2024-09-12T16:40:22.720628Z",
     "shell.execute_reply.started": "2024-09-12T16:40:22.686182Z"
    }
   },
   "outputs": [
    {
     "data": {
      "text/plain": [
       "InsertManyResult([1, 2, 3, 4], acknowledged=True)"
      ]
     },
     "execution_count": 8,
     "metadata": {},
     "output_type": "execute_result"
    }
   ],
   "source": [
    "coll.insert_many(data)"
   ]
  },
  {
   "cell_type": "code",
   "execution_count": 9,
   "id": "e2cc08ef-d03a-4db7-8ec3-feb6541e2030",
   "metadata": {
    "execution": {
     "iopub.execute_input": "2024-09-12T16:40:35.930420Z",
     "iopub.status.busy": "2024-09-12T16:40:35.928421Z",
     "iopub.status.idle": "2024-09-12T16:40:35.939874Z",
     "shell.execute_reply": "2024-09-12T16:40:35.937857Z",
     "shell.execute_reply.started": "2024-09-12T16:40:35.930420Z"
    }
   },
   "outputs": [
    {
     "name": "stdout",
     "output_type": "stream",
     "text": [
      "{'_id': 1, 'basket': ['apple', 'orange', 'orange', 'peach', 'pear']}\n",
      "{'_id': 2, 'basket': ['apple', 'lemon', 'pear']}\n",
      "{'_id': 3, 'basket': []}\n",
      "{'_id': 4, 'basket': None}\n"
     ]
    }
   ],
   "source": [
    "for doc in coll.find():\n",
    "    print(doc)"
   ]
  },
  {
   "cell_type": "code",
   "execution_count": 12,
   "id": "96d50ded-24f0-42a1-a70c-cde20c0432fe",
   "metadata": {
    "execution": {
     "iopub.execute_input": "2024-09-12T16:42:23.756496Z",
     "iopub.status.busy": "2024-09-12T16:42:23.754496Z",
     "iopub.status.idle": "2024-09-12T16:42:23.766927Z",
     "shell.execute_reply": "2024-09-12T16:42:23.765932Z",
     "shell.execute_reply.started": "2024-09-12T16:42:23.755494Z"
    }
   },
   "outputs": [
    {
     "data": {
      "text/plain": [
       "[{'_id': 1, 'basket': 'apple'},\n",
       " {'_id': 1, 'basket': 'orange'},\n",
       " {'_id': 1, 'basket': 'orange'},\n",
       " {'_id': 1, 'basket': 'peach'},\n",
       " {'_id': 1, 'basket': 'pear'},\n",
       " {'_id': 2, 'basket': 'apple'},\n",
       " {'_id': 2, 'basket': 'lemon'},\n",
       " {'_id': 2, 'basket': 'pear'}]"
      ]
     },
     "execution_count": 12,
     "metadata": {},
     "output_type": "execute_result"
    }
   ],
   "source": [
    "list(coll.aggregate([{'$unwind': '$basket'}]))"
   ]
  },
  {
   "cell_type": "code",
   "execution_count": 19,
   "id": "cf17ea6b-2268-4bd9-ba30-2d7e5cde8f6f",
   "metadata": {
    "execution": {
     "iopub.execute_input": "2024-09-12T16:46:21.064652Z",
     "iopub.status.busy": "2024-09-12T16:46:21.063641Z",
     "iopub.status.idle": "2024-09-12T16:46:21.071942Z",
     "shell.execute_reply": "2024-09-12T16:46:21.070928Z",
     "shell.execute_reply.started": "2024-09-12T16:46:21.064652Z"
    }
   },
   "outputs": [],
   "source": [
    "pipeline = [{'$unwind': '$basket'}, {'$group': {'_id': '$basket', 'count': {'$sum': 1}}}]"
   ]
  },
  {
   "cell_type": "code",
   "execution_count": 20,
   "id": "c51d8b55-0b3e-42e9-b2db-29aed773242e",
   "metadata": {
    "execution": {
     "iopub.execute_input": "2024-09-12T16:46:21.615785Z",
     "iopub.status.busy": "2024-09-12T16:46:21.614785Z",
     "iopub.status.idle": "2024-09-12T16:46:21.637054Z",
     "shell.execute_reply": "2024-09-12T16:46:21.636038Z",
     "shell.execute_reply.started": "2024-09-12T16:46:21.615785Z"
    }
   },
   "outputs": [
    {
     "data": {
      "text/plain": [
       "[{'_id': 'apple', 'count': 2},\n",
       " {'_id': 'orange', 'count': 2},\n",
       " {'_id': 'peach', 'count': 1},\n",
       " {'_id': 'pear', 'count': 2},\n",
       " {'_id': 'lemon', 'count': 1}]"
      ]
     },
     "execution_count": 20,
     "metadata": {},
     "output_type": "execute_result"
    }
   ],
   "source": [
    "list(coll.aggregate(pipeline))"
   ]
  },
  {
   "cell_type": "code",
   "execution_count": null,
   "id": "f4723e1c-4737-4648-9319-7a8514e3ac2c",
   "metadata": {},
   "outputs": [],
   "source": []
  }
 ],
 "metadata": {
  "kernelspec": {
   "display_name": "Python 3 (ipykernel)",
   "language": "python",
   "name": "python3"
  },
  "language_info": {
   "codemirror_mode": {
    "name": "ipython",
    "version": 3
   },
   "file_extension": ".py",
   "mimetype": "text/x-python",
   "name": "python",
   "nbconvert_exporter": "python",
   "pygments_lexer": "ipython3",
   "version": "3.12.5"
  }
 },
 "nbformat": 4,
 "nbformat_minor": 5
}
